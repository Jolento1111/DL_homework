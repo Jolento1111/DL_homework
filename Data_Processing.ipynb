{
 "cells": [
  {
   "cell_type": "code",
   "execution_count": 30,
   "metadata": {},
   "outputs": [
    {
     "name": "stdout",
     "output_type": "stream",
     "text": [
      "Files already downloaded and verified\n",
      "Files already downloaded and verified\n",
      "Mean: tensor([0.5071, 0.4865, 0.4409])\n",
      "Std: tensor([0.2667, 0.2558, 0.2754])\n",
      "Files already downloaded and verified\n",
      "Proportion of each class in the new training set:\n"
     ]
    }
   ],
   "source": [
    "import torch\n",
    "from torchvision import datasets, transforms\n",
    "from torch.utils.data import random_split, DataLoader\n",
    "\n",
    "# Set random seed for reproducibility\n",
    "torch.manual_seed(0)\n",
    "\n",
    "# Define transformations\n",
    "transform_test = transforms.Compose([\n",
    "    transforms.ToTensor()\n",
    "])\n",
    "\n",
    "# Load CIFAR-100 dataset\n",
    "train_data = datasets.CIFAR100(root='./data', train=True, download=True, transform=transform_test)\n",
    "test_data = datasets.CIFAR100(root='./data', train=False, download=True, transform=transform_test)\n",
    "\n",
    "train_loader = DataLoader(train_data, batch_size=100, shuffle=False)\n",
    "mean_train = torch.zeros(3)\n",
    "std_train = torch.zeros(3)\n",
    "total_samples = 50000\n",
    "batch_size = 100\n",
    "\n",
    "for imgs, _ in train_loader:\n",
    "    batch_mean = torch.mean(imgs, dim=(0, 2, 3))\n",
    "    batch_std = torch.std(imgs, dim=(0, 2, 3))\n",
    "    mean_train += batch_mean\n",
    "    std_train += batch_std\n",
    "\n",
    "mean_train = mean_train*batch_size/total_samples\n",
    "std_train = std_train*batch_size/total_samples\n",
    "print(\"Mean:\", mean_train)\n",
    "print(\"Std:\", std_train)\n",
    "\n",
    "transform_train = transforms.Compose([\n",
    "    transforms.RandomHorizontalFlip(0.5),\n",
    "    transforms.RandomCrop(32, padding=4),\n",
    "    transforms.ToTensor(),\n",
    "    transforms.Normalize(mean_train, std_train)  # Normalizing with previously calculated mean and std\n",
    "])\n",
    "\n",
    "train_data = datasets.CIFAR100(root='./data', train=True, download=True, transform=transform_train)\n",
    "\n",
    "# Split the dataset into training and validation sets\n",
    "new_train_data, val_data = random_split(train_data, [40000,10000])\n",
    "\n",
    "# Calculate class proportions in the new training set\n",
    "class_counts = torch.zeros(100)\n",
    "for img, target in new_train_data:\n",
    "    class_counts[target] += 1\n",
    "\n",
    "class_proportions = 100 * class_counts / class_counts.sum()\n",
    "\n",
    "print(\"Proportion of each class in the new training set:\")\n",
    "with open(\"new_train_set.csv\", \"w\") as file:\n",
    "    for i in range(100):\n",
    "        # 将print的输出写入到文件中\n",
    "        file.write(f\"{train_data.classes[i]}, {class_proportions[i]:.2f}\\n\")\n",
    "\n"
   ]
  },
  {
   "cell_type": "code",
   "execution_count": null,
   "metadata": {},
   "outputs": [],
   "source": []
  }
 ],
 "metadata": {
  "kernelspec": {
   "display_name": "Python 3",
   "language": "python",
   "name": "python3"
  },
  "language_info": {
   "codemirror_mode": {
    "name": "ipython",
    "version": 3
   },
   "file_extension": ".py",
   "mimetype": "text/x-python",
   "name": "python",
   "nbconvert_exporter": "python",
   "pygments_lexer": "ipython3",
   "version": "3.10.13"
  }
 },
 "nbformat": 4,
 "nbformat_minor": 2
}
